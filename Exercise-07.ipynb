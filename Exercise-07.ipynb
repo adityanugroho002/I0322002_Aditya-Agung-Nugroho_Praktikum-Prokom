{
 "cells": [
  {
   "cell_type": "code",
   "execution_count": 112,
   "metadata": {},
   "outputs": [
    {
     "name": "stdout",
     "output_type": "stream",
     "text": [
      "Matriks\n",
      "3 4 \n",
      "7 5 \n"
     ]
    },
    {
     "data": {
      "text/plain": [
       "[[3, 4], [7, 5]]"
      ]
     },
     "execution_count": 112,
     "metadata": {},
     "output_type": "execute_result"
    }
   ],
   "source": [
    "#Buatlah sebuah fungsi untuk membuat matrix berdasarkan input dari user\n",
    "\n",
    "def create_matrix(baris,kolom):\n",
    "    matrix = []\n",
    "\n",
    "    #Tulis kode kamu disini\n",
    "    for i in range (baris):\n",
    "        matrix.append([])\n",
    "        for j in range (kolom) :\n",
    "            elemen = int(input(f'Masukkan nilai matriks [{i}][{j}] = '))\n",
    "            matrix[i].append(elemen)\n",
    "    print('Matriks')\n",
    "    for i in range(baris) :\n",
    "        for j in range(kolom) :\n",
    "            print(matrix[i][j], end=' ')\n",
    "        print()   \n",
    "    return matrix\n",
    "\n",
    "baris = int(input('Masukkan Jumlah Baris:\\t'))\n",
    "kolom = int(input('Masukkan Jumlah Kolom:\\t'))\n",
    "\n",
    "create_matrix(baris,kolom)"
   ]
  },
  {
   "cell_type": "code",
   "execution_count": 82,
   "metadata": {},
   "outputs": [
    {
     "name": "stdout",
     "output_type": "stream",
     "text": [
      "Matriks A\n",
      "5 3 \n",
      "1 2 \n",
      "Matriks B\n",
      "5 6 \n",
      "7 9 \n",
      "Hasil Penjumlahan Matriks A dan Matriks B\n",
      "10 9  \n",
      "8 11  \n",
      "\n"
     ]
    },
    {
     "data": {
      "text/plain": [
       "[[10, 9], [8, 11]]"
      ]
     },
     "execution_count": 82,
     "metadata": {},
     "output_type": "execute_result"
    }
   ],
   "source": [
    "#Buatlah sebuah fungsi untuk menambah dua matrix berdasarkan input user\n",
    "\n",
    "def tambah_matrix(matrix1,matrix2):\n",
    "    tambah = []\n",
    "    for i in range(len(matrixA)):\n",
    "     for j in range(len(matrixA[0])):\n",
    "          print(matrixA[i][j] + matrixB[i][j], end = ' ')\n",
    "     print(' ')\n",
    "    for i in range(baris):\n",
    "        tambah.append([])\n",
    "        for j in range(kolom):\n",
    "            elemen = matrixA[i][j] + matrixB[i][j]\n",
    "            tambah[i].append(elemen)\n",
    "    print()\n",
    "    return tambah\n",
    "\n",
    "matrixA = []\n",
    "for i in range(baris):\n",
    "    matrixA.append([])\n",
    "    for j in range(kolom):\n",
    "        elemen = int(input(f'Masukkan matriks[{i}][{j}]: '))\n",
    "        matrixA[i].append(elemen)\n",
    "print('Matriks A')\n",
    "for i in range(baris):\n",
    "    for j in range(kolom):\n",
    "        print(matrixA[i][j], end=\" \")\n",
    "    print()\n",
    "\n",
    "matrixB = []\n",
    "for i in range(baris):\n",
    "    matrixB.append([])\n",
    "    for j in range(kolom):\n",
    "        elemen = int(input(f'Masukkan matriks[{i}][{j}]: '))\n",
    "        matrixB[i].append(elemen)\n",
    "print('Matriks B')\n",
    "for i in range(baris):\n",
    "    for j in range(kolom):\n",
    "        print(matrixB[i][j], end=\" \")\n",
    "    print()\n",
    "\n",
    "print('Hasil Penjumlahan Matriks A dan Matriks B')\n",
    "tambah_matrix(matrixA, matrixB)"
   ]
  },
  {
   "cell_type": "code",
   "execution_count": 60,
   "metadata": {},
   "outputs": [
    {
     "name": "stdout",
     "output_type": "stream",
     "text": [
      "Matriks 1\n",
      "2 1 \n",
      "3 4 \n",
      "Matriks 2\n",
      "5 6 \n",
      "7 8 \n",
      "Hasil Perkalian\n",
      "7 6 \n",
      "18 19 \n"
     ]
    },
    {
     "data": {
      "text/plain": [
       "[[7, 6], [18, 19]]"
      ]
     },
     "execution_count": 60,
     "metadata": {},
     "output_type": "execute_result"
    }
   ],
   "source": [
    "#Buatlah fungsi untuk mengakalikan dua buah matrix berdasarkan input user\n",
    "\n",
    "def multiply_matrix(matrix1, matrix2):\n",
    "    result=[]\n",
    "\n",
    "    #Tulis kode kamu disini\n",
    "    for i in range(0, len(matrix1)):\n",
    "        row = []\n",
    "        for j in range(0, len(matrix1[0])):\n",
    "            total = 0\n",
    "            for k in range(0, len(matrix1)):\n",
    "                total = total + (matrix1[i][k] * matrix1[k][j])\n",
    "            row.append(total)\n",
    "        result.append(row)\n",
    "    print('Hasil Perkalian')\n",
    "    for i in range(0, len(result)):\n",
    "        for j in range(0, len(result[0])):\n",
    "            print (result[i][j], end=' ')\n",
    "        print ()\n",
    "    \n",
    "    return result\n",
    "\n",
    "\n",
    "matrix1 = []\n",
    "for i in range(baris):\n",
    "    matrix1.append([])\n",
    "    for j in range(kolom):\n",
    "        elemen = int(input(f'Masukkan matriks[{i}][{j}]: '))\n",
    "        matrix1[i].append(elemen)\n",
    "print('Matriks 1')\n",
    "for i in range(baris):\n",
    "    for j in range(kolom):\n",
    "        print(matrix1[i][j], end=\" \")\n",
    "    print()\n",
    "\n",
    "matrix2 = []\n",
    "for i in range(baris):\n",
    "    matrix2.append([])\n",
    "    for j in range(kolom):\n",
    "        elemen = int(input(f'Masukkan matriks[{i}][{j}]: '))\n",
    "        matrix2[i].append(elemen)\n",
    "print('Matriks 2')\n",
    "for i in range(baris):\n",
    "    for j in range(kolom):\n",
    "        print(matrix2[i][j], end=\" \")\n",
    "    print()\n",
    "\n",
    "multiply_matrix(matrix1, matrix2)"
   ]
  }
 ],
 "metadata": {
  "language_info": {
   "name": "python"
  },
  "orig_nbformat": 4
 },
 "nbformat": 4,
 "nbformat_minor": 2
}
