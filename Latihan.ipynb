{
 "cells": [
  {
   "cell_type": "code",
   "execution_count": 5,
   "metadata": {},
   "outputs": [
    {
     "name": "stdout",
     "output_type": "stream",
     "text": [
      "jadi, volume balok dengan 2, 3, 4 adalah 24 cm^2\n"
     ]
    }
   ],
   "source": [
    "panjang = int(input(\"Masukkan panjang balok\"))\n",
    "lebar = int(input(\"Masukkan lebar balok\"))\n",
    "tinggi = int(input(\"Masukkan tinggi balok\"))\n",
    "Volume = panjang * lebar * tinggi\n",
    "print(f'jadi, volume balok dengan {panjang}, {lebar}, {tinggi} adalah {Volume} cm^2')\n"
   ]
  },
  {
   "cell_type": "code",
   "execution_count": 8,
   "metadata": {},
   "outputs": [
    {
     "name": "stdout",
     "output_type": "stream",
     "text": [
      "[30, 24, 15]\n",
      "jarak rumah terjauh adalah : 30\n",
      "jarak rumah terdekat adalah : 15\n",
      "jarak rumah rata-rata adalah : 23.0\n"
     ]
    }
   ],
   "source": [
    "jarak_rumah = []\n",
    "nilai = input('masukkan jarak rumah dan teman')\n",
    "jarak_rumah = nilai.split(',')\n",
    "\n",
    "angka_list = [int(nilai) for nilai in jarak_rumah]\n",
    "print(angka_list)\n",
    "\n",
    "#mencari nilai maksimal dan minimal\n",
    "print(f'jarak rumah terjauh adalah : {max(angka_list)}')\n",
    "print(f'jarak rumah terdekat adalah : {min(angka_list)}')\n",
    "\n",
    "#mencari nilai mean/rata-rata\n",
    "mean = sum(angka_list)/len(angka_list)\n",
    "print(f'jarak rumah rata-rata adalah : {mean}')"
   ]
  },
  {
   "cell_type": "code",
   "execution_count": null,
   "metadata": {},
   "outputs": [],
   "source": [
    "data_kelas = {\n",
    "    'kelas A' : {\n",
    "        'nama' : ['Anggito', 'Riyo', 'Ariiq'],\n",
    "        'angkatan' : 2022\n",
    "    },\n",
    "    'Selain kelas A' : {\n",
    "        \n",
    "    }\n",
    "}\n"
   ]
  },
  {
   "cell_type": "code",
   "execution_count": 10,
   "metadata": {},
   "outputs": [
    {
     "name": "stdout",
     "output_type": "stream",
     "text": [
      "['program.c', 'stdio.h', 'sample.h', 'a.out', 'math.h', 'hpp.out']\n"
     ]
    }
   ],
   "source": [
    "filenames = [\"program.c\", \"stdio.hpp\", \"sample.hpp\", \"a.out\", \"math.hpp\", \"hpp.out\"]\n",
    "newfilenames = [filename.replace(\".hpp\", \".h\") if filename.endswith(\".hpp\") else filename for filename in filenames]\n",
    "print(newfilenames)\n"
   ]
  },
  {
   "cell_type": "code",
   "execution_count": 12,
   "metadata": {},
   "outputs": [
    {
     "name": "stdout",
     "output_type": "stream",
     "text": [
      "Hello\n",
      "world\n",
      "Hlowrd\n"
     ]
    }
   ],
   "source": [
    "string = \"Hello world\"\n",
    "print(string[0:5]) #Hello\n",
    "print(string[6:11]) #world\n",
    "print(string[0:11:2]) #hlowrd"
   ]
  },
  {
   "cell_type": "code",
   "execution_count": 13,
   "metadata": {},
   "outputs": [
    {
     "name": "stdout",
     "output_type": "stream",
     "text": [
      "True\n"
     ]
    }
   ],
   "source": [
    "#Boolean\n",
    "boolean1 = 10>4+5\n",
    "print(boolean1)"
   ]
  },
  {
   "cell_type": "code",
   "execution_count": 3,
   "metadata": {},
   "outputs": [
    {
     "name": "stdout",
     "output_type": "stream",
     "text": [
      "0b101\n"
     ]
    }
   ],
   "source": [
    "#binary\n",
    "biner = bin(5)\n",
    "print(biner)"
   ]
  },
  {
   "attachments": {},
   "cell_type": "markdown",
   "metadata": {},
   "source": [
    "ARITMATIKA"
   ]
  },
  {
   "cell_type": "code",
   "execution_count": 7,
   "metadata": {},
   "outputs": [
    {
     "name": "stdout",
     "output_type": "stream",
     "text": [
      "Hasil dari3 + 5 = 8\n"
     ]
    }
   ],
   "source": [
    "# Aritmatika\n",
    "angka1 = int(input (\"masukkan angka pertama\"))\n",
    "angka2 = int(input (\"masukkan angka kedua\"))\n",
    "operasi = angka1 + angka2\n",
    "print(\"Hasil dari \"+str(angka1)+\" + \"+str(angka2)+\" = \"+str(operasi))"
   ]
  },
  {
   "attachments": {},
   "cell_type": "markdown",
   "metadata": {},
   "source": [
    "ASSIGNMENT"
   ]
  },
  {
   "cell_type": "code",
   "execution_count": 14,
   "metadata": {},
   "outputs": [
    {
     "name": "stdout",
     "output_type": "stream",
     "text": [
      "12\n"
     ]
    }
   ],
   "source": [
    "# Assignment\n",
    "a = 10\n",
    "a += 2\n",
    "print(a)"
   ]
  },
  {
   "cell_type": "code",
   "execution_count": 19,
   "metadata": {},
   "outputs": [
    {
     "name": "stdout",
     "output_type": "stream",
     "text": [
      "25\n",
      "15\n",
      "100\n",
      "4.0\n"
     ]
    }
   ],
   "source": [
    "#calculator assignment\n",
    "\n",
    "a = int(input(\"assignment\"))\n",
    "b = a\n",
    "c = a\n",
    "d = a\n",
    "\n",
    "a += 5\n",
    "print(a)\n",
    "b -= 5\n",
    "print(b)\n",
    "c *= 5\n",
    "print(c)\n",
    "d /= 5\n",
    "print(d)\n"
   ]
  },
  {
   "attachments": {},
   "cell_type": "markdown",
   "metadata": {},
   "source": [
    "BOOLEAN"
   ]
  },
  {
   "cell_type": "code",
   "execution_count": null,
   "metadata": {},
   "outputs": [],
   "source": []
  }
 ],
 "metadata": {
  "kernelspec": {
   "display_name": "Python 3",
   "language": "python",
   "name": "python3"
  },
  "language_info": {
   "codemirror_mode": {
    "name": "ipython",
    "version": 3
   },
   "file_extension": ".py",
   "mimetype": "text/x-python",
   "name": "python",
   "nbconvert_exporter": "python",
   "pygments_lexer": "ipython3",
   "version": "3.10.7"
  },
  "orig_nbformat": 4
 },
 "nbformat": 4,
 "nbformat_minor": 2
}
