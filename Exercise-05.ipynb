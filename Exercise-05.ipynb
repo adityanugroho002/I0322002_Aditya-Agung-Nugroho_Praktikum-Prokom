{
 "cells": [
  {
   "attachments": {},
   "cell_type": "markdown",
   "metadata": {},
   "source": [
    "1. Buatlah program untuk menampilkan total penjumlahan bilangan ganjil dan total penjumlahan bilangan genap dengan input dari user berupa range (batas atas dan batas bawah)!"
   ]
  },
  {
   "cell_type": "code",
   "execution_count": 18,
   "metadata": {},
   "outputs": [
    {
     "name": "stdout",
     "output_type": "stream",
     "text": [
      "Hasil penjumlahan bilangan ganjil pada range 1 sampai 10 adalah 25\n",
      "Hasil penjumlahan bilangan genap pada range 1 sampai 10 adalah 30\n"
     ]
    }
   ],
   "source": [
    "# Kerjakan nomor 1 di sini\n",
    "batas_atas = int(input(\"Masukkan nilai batas atas\"))\n",
    "batas_bawah = int(input(\"Masukkan nilai batas bawah\"))\n",
    "hasil_ganjil = 0\n",
    "hasil_genap = 0\n",
    "\n",
    "if batas_atas > batas_bawah:\n",
    "    batas_atas,batas_bawah = batas_bawah,batas_atas\n",
    "for nilai in range(batas_atas,batas_bawah+1):\n",
    "    if nilai % 2 == 1:\n",
    "        hasil_ganjil += nilai\n",
    "    else:\n",
    "        hasil_genap += nilai\n",
    "\n",
    "print(f'Hasil penjumlahan bilangan ganjil pada range {batas_atas} sampai {batas_bawah} adalah {hasil_ganjil}')\n",
    "print(f'Hasil penjumlahan bilangan genap pada range {batas_atas} sampai {batas_bawah} adalah {hasil_genap}')\n"
   ]
  },
  {
   "attachments": {},
   "cell_type": "markdown",
   "metadata": {},
   "source": [
    "2. Buatlah sebuah list yang berisi daftar makanan khas daerah (minimal 10 makanan termasuk makanan khas Solo). Kemudian buat program pencarian menggunakan pengulangan. Apabila nama makanan yang user inputkan sudah sesuai dengan isi list maka program akan berhenti dan menampilkan output \"(makanan yang diinput user) adalah makanan khas daerah\"."
   ]
  },
  {
   "cell_type": "code",
   "execution_count": 17,
   "metadata": {},
   "outputs": [
    {
     "name": "stdout",
     "output_type": "stream",
     "text": [
      "List Makanan Khas Daerah\n",
      "nasi liwet\n",
      "tiwul\n",
      "rendang\n",
      "bika ambon\n",
      "selat solo\n",
      "serabi solo\n",
      "gudeg\n",
      "pempek\n",
      "mi aceh\n",
      "kerak telor\n",
      "papeda\n",
      "lumpia\n",
      "gethuk\n",
      "timlo adalah makanan khas daerah\n"
     ]
    }
   ],
   "source": [
    "# Kerjakan nomor 2 di sini\n",
    "def makanan_khas_daerah() :\n",
    "    return['nasi liwet', 'tiwul', 'rendang', 'bika ambon', 'selat solo',\n",
    "           'serabi solo', 'gudeg', 'pempek', 'mi aceh', 'kerak telor', \n",
    "           'papeda', 'lumpia', 'gethuk', 'timlo', 'soto solo']\n",
    "\n",
    "makanan_khas_daerah = makanan_khas_daerah()\n",
    "nama_makanan = input(\"Masukkan makanan khas daerah anda\")\n",
    "print(\"List Makanan Khas Daerah\")\n",
    "\n",
    "for i in makanan_khas_daerah :\n",
    "    if i == nama_makanan.lower() :\n",
    "        break\n",
    "    print(i)\n",
    "\n",
    "print(f'{nama_makanan} adalah makanan khas daerah')\n",
    "\n"
   ]
  },
  {
   "attachments": {},
   "cell_type": "markdown",
   "metadata": {},
   "source": [
    "3. Buatlah program untuk menghitung rata-rata 7 bilangan dimana bilangan-bilangan tersebut didapat melalui input user!"
   ]
  },
  {
   "cell_type": "code",
   "execution_count": 22,
   "metadata": {},
   "outputs": [
    {
     "name": "stdout",
     "output_type": "stream",
     "text": [
      "Daftar bilangan adalah [1.0, 2.0, 3.0, 4.0, 6.0, 7.0, 8.0]\n",
      "Rata-rata dari ketujuh bilangan adalah 4.428571428571429\n"
     ]
    }
   ],
   "source": [
    "# Kerjakan nomor 3 di sini\n",
    "angka = []\n",
    "while len(angka) != 7:\n",
    "    x = float(input(\"Masukkan angka\"))\n",
    "\n",
    "    angka.append(x)\n",
    "\n",
    "mean = sum(angka)/len(angka)\n",
    "\n",
    "print(f'Daftar bilangan adalah {angka}')\n",
    "print(f'Rata-rata dari ketujuh bilangan adalah {mean}')\n"
   ]
  }
 ],
 "metadata": {
  "kernelspec": {
   "display_name": "Python 3",
   "language": "python",
   "name": "python3"
  },
  "language_info": {
   "codemirror_mode": {
    "name": "ipython",
    "version": 3
   },
   "file_extension": ".py",
   "mimetype": "text/x-python",
   "name": "python",
   "nbconvert_exporter": "python",
   "pygments_lexer": "ipython3",
   "version": "3.10.7"
  },
  "orig_nbformat": 4
 },
 "nbformat": 4,
 "nbformat_minor": 2
}
