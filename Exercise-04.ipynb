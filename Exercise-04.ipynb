{
 "cells": [
  {
   "cell_type": "code",
   "execution_count": 1,
   "metadata": {},
   "outputs": [
    {
     "name": "stdout",
     "output_type": "stream",
     "text": [
      "Aditya Agung Nugroho\n",
      "I0322002\n",
      "A\n"
     ]
    }
   ],
   "source": [
    "print(input(\"Nama: \"))\n",
    "print(input(\"NIM: \"))\n",
    "print(input(\"Kelas: \"))"
   ]
  },
  {
   "attachments": {},
   "cell_type": "markdown",
   "metadata": {},
   "source": [
    "## 1."
   ]
  },
  {
   "attachments": {},
   "cell_type": "markdown",
   "metadata": {},
   "source": [
    "Buatlah program persyaratan pembuatan SIM dengan input yaitu nama user, umur user, dan nilai tes user.<br>\n",
    "Dengan ketentuan mendapat SIM sebagai berikut:\n",
    "* Umur dari user harus lebih dari sama dengan 17 tahun\n",
    "* Nilai tes lebih dari sama dengan 70\n",
    "\n",
    "<br>Output yang dihasilkan dari program adalah:\n",
    "<br>\"Selamat Anda Berhak Mendapatkan SIM Anda\"\n",
    "<br>\"Maaf, Anda tidak berhak mendapatkan SIM anda\"\n",
    "> *note: Kerjakan soal ini dengan percabangan*"
   ]
  },
  {
   "cell_type": "code",
   "execution_count": 2,
   "metadata": {},
   "outputs": [
    {
     "name": "stdout",
     "output_type": "stream",
     "text": [
      "Atas nama Aditya umur 19 tahun mendapatkan nilai 80\n",
      "Selamat Anda Berhak Mendapatkan SIM Anda\n"
     ]
    }
   ],
   "source": [
    "# Kerjakan soal no 1 di sini\n",
    "nama = input(\"masukkan nama user \")\n",
    "umur = int(input(\"masukkan umur user \"))\n",
    "nilai = int(input(\"masukkan nilai user \"))\n",
    "print(\"Atas nama\",nama,\"umur\",umur,\"tahun mendapatkan nilai\",nilai)\n",
    "\n",
    "if umur >= 17:\n",
    "    if nilai >= 70:\n",
    "        print(\"Selamat Anda Berhak Mendapatkan SIM Anda\")\n",
    "    else:\n",
    "        print(\"Maaf, Anda tidak berhak mendapatkan SIM anda\")\n",
    "else:\n",
    "    print(\"Maaf, Anda tidak berhak mendapatkan SIM anda\")\n"
   ]
  },
  {
   "attachments": {},
   "cell_type": "markdown",
   "metadata": {},
   "source": [
    "## 2."
   ]
  },
  {
   "attachments": {},
   "cell_type": "markdown",
   "metadata": {},
   "source": [
    "Buatlah program untuk mencari bilangan terbesar yang diinput dari user.<br>\n",
    "<br>Dengan ketentuan sebagai berikut:\n",
    "* Program nenerima 3 input bilangan dari user\n",
    "* Program akan menentukan mana bilangan terbesar\n",
    "* Output yang akan dihasilkan misalnya adalah \"Dari bil_1, bil_2, dan bil_3, bilangan terbesarnya adalah bilangan bil_2\"\n",
    "> *note: Kerjakan soal ini dengan percabangan*"
   ]
  },
  {
   "cell_type": "code",
   "execution_count": 3,
   "metadata": {},
   "outputs": [
    {
     "name": "stdout",
     "output_type": "stream",
     "text": [
      "Bilangan =  1 , 2 , 3\n",
      "Dari bil_1, bil_2, dan bil_3, bilangan terbesarnya adalah bilangan bil_3\n"
     ]
    }
   ],
   "source": [
    "# Kerjakan soal nomor 2 disini\n",
    "bil_1 = int(input(\"masukkan bilangan pertama\"))\n",
    "bil_2 = int(input(\"masukkan bilangan kedua\"))\n",
    "bil_3 = int(input(\"masukkan bilangan ketiga\"))\n",
    "print(\"Bilangan = \",bil_1,\",\",bil_2,\",\",bil_3)\n",
    "\n",
    "if bil_1 > bil_2:\n",
    "    if bil_1 > bil_3:\n",
    "        print(f\"Dari bil_1, bil_2, dan bil_3, bilangan terbesarnya adalah bilangan bil_1\")\n",
    "    else:\n",
    "        print(f\"Dari bil_1, bil_2, dan bil_3, bilangan terbesarnya adalah bilangan bil_3\")\n",
    "elif bil_2 > bil_3:\n",
    "    if bil_1 > bil_2:\n",
    "        print(f\"Dari bil_1, bil_2, dan bil_3, bilangan terbesarnya adalah bilangan bil_1\")\n",
    "    else:\n",
    "        print(f\"Dari bil_1, bil_2, dan bil_3, bilangan terbesarnya adalah bilangan bil_2\")\n",
    "else:\n",
    "    print(f\"Dari bil_1, bil_2, dan bil_3, bilangan terbesarnya adalah bilangan bil_3\")"
   ]
  }
 ],
 "metadata": {
  "kernelspec": {
   "display_name": "Python 3",
   "language": "python",
   "name": "python3"
  },
  "language_info": {
   "codemirror_mode": {
    "name": "ipython",
    "version": 3
   },
   "file_extension": ".py",
   "mimetype": "text/x-python",
   "name": "python",
   "nbconvert_exporter": "python",
   "pygments_lexer": "ipython3",
   "version": "3.10.7"
  },
  "orig_nbformat": 4,
  "vscode": {
   "interpreter": {
    "hash": "a9cff5a362bc38ef45d817ae74b1af54d6a076e3d773891282bce078b815ba34"
   }
  }
 },
 "nbformat": 4,
 "nbformat_minor": 2
}
