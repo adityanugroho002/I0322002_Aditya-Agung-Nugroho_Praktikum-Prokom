{
 "cells": [
  {
   "cell_type": "code",
   "execution_count": 1,
   "metadata": {},
   "outputs": [
    {
     "name": "stdout",
     "output_type": "stream",
     "text": [
      "Aditya Agung Nugroho\n",
      "I0322002\n",
      "A\n"
     ]
    }
   ],
   "source": [
    "print(input(\"Nama: \"))\n",
    "print(input(\"NIM: \"))\n",
    "print(input(\"Kelas: \"))"
   ]
  },
  {
   "attachments": {},
   "cell_type": "markdown",
   "metadata": {},
   "source": [
    "## 1."
   ]
  },
  {
   "attachments": {},
   "cell_type": "markdown",
   "metadata": {},
   "source": [
    "buatlah program sederhana untuk menghitung umur pengguna dengan ketentuan sebagai berikut :\n",
    "* Program meminta pengguna memasukan tanggal, bulan, dan tahun lahir\n",
    "* Program menghitung umur pengguna hingga tanggal 1 januari 2023\n",
    "* Program menampilkan umur dari pengguna"
   ]
  },
  {
   "cell_type": "code",
   "execution_count": 3,
   "metadata": {},
   "outputs": [
    {
     "name": "stdout",
     "output_type": "stream",
     "text": [
      "Tanggal lahir Anda =  2004-01-20\n",
      "umur Anda adalah =  18\n"
     ]
    }
   ],
   "source": [
    "# Menghitung umur\n",
    "from datetime import date\n",
    "Day = int(input(\"Masukkan tanggal lahir \"))\n",
    "Month = int(input(\"Masukkan bulan lahir \"))\n",
    "Year = int(input(\"Masukkan tahun lahir \"))\n",
    "\n",
    "Tanggal_lahir = date(Year, Month, Day)\n",
    "print(\"Tanggal lahir Anda = \", Tanggal_lahir)\n",
    "\n",
    "Batas = date(2023, 1, 1)\n",
    "umur = (Batas - Tanggal_lahir).days//365\n",
    "print(\"umur Anda adalah = \", umur)"
   ]
  },
  {
   "attachments": {},
   "cell_type": "markdown",
   "metadata": {},
   "source": [
    "## 2."
   ]
  },
  {
   "attachments": {},
   "cell_type": "markdown",
   "metadata": {},
   "source": [
    "Pada 2015, wabah flu burung menyerang Indonesia dan beberapa peternak ayam mengalami kerugian karena banyaknya ayam yang mati. Setiap bulan, jumlah ayamnya berkurang menjadi setengah. Setelah dua bulan, jumlah ayam yang tersisa adalah 200 ekor. Hitunglah jumlah ayam sebelumnya yang dimiliki peternak tersebut! (gunakan rumus deret geometri)\n",
    "\n",
    "> *note: SOAL DIATAS DIKERJAKAN SESUAI DENGAN RUMUS BAKU*"
   ]
  },
  {
   "cell_type": "code",
   "execution_count": 5,
   "metadata": {},
   "outputs": [
    {
     "name": "stdout",
     "output_type": "stream",
     "text": [
      "Jumlah ayam sebelumnya adalah =  800.0 ekor\n"
     ]
    }
   ],
   "source": [
    "Sekarang = 200\n",
    "rasio = 1/2\n",
    "Suku = 3\n",
    "#un = a*r**(n-1)\n",
    "#a = un/r**(n-1)\n",
    "Ayam_awal = Sekarang/(rasio)**(Suku-1)\n",
    "print(\"Jumlah ayam sebelumnya adalah = \", Ayam_awal, \"ekor\")"
   ]
  },
  {
   "attachments": {},
   "cell_type": "markdown",
   "metadata": {},
   "source": [
    "## 3. "
   ]
  },
  {
   "attachments": {},
   "cell_type": "markdown",
   "metadata": {},
   "source": [
    "* **A** Hitunglah luas Prisma Segitiga dengan ketentuan sebagai berikut:\n",
    "    * Alas dan tutup prisma merupakan segitiga\n",
    "    * Terdapat 3 persegi panjang yang menyinggung alas dan tutup prisma\n",
    "    * Sisi persegi panjang yang menyinggung segitiga adalah sisi lebar\n",
    "```python\n",
    "    dictionary_figure = {\"Persegi\":{\"Sisi\":22},\n",
    "                        \"Persegi Panjang\":{\"Panjang\":10,\"Lebar\":5},\n",
    "                        \"Segitiga Sama Sisi\":{\"Sisi\":6,\"Tinggi\":3**(1/2) * 3},\n",
    "                        \"Lingkaran\":{\"Diameter\":7}}\n",
    "```\n",
    "* **B** Hitunglah luas Tabung dengan ketentuan sebagai berikut:\n",
    "    * Alas dan tutup tabung merupakan lingkaran\n",
    "    * Terdapat 1 persegi yang menyinggung alas dan tutup tabung\n",
    "    * Persegi yang ada mengelilingi lingkaran hingga sisi dari persegi saling bertemu\n",
    "\n",
    "> *note: Pada soal ini kalian hanya boleh menggunakan key-value pair dan index pada list. Tidak diperbolehkan menulis secara langsung dimensi dari figure*"
   ]
  },
  {
   "cell_type": "code",
   "execution_count": 1,
   "metadata": {},
   "outputs": [
    {
     "name": "stdout",
     "output_type": "stream",
     "text": [
      "Luas permukaan prisma adalah =  171.65063509461098\n",
      "Luas permukaan tabung adalah =  560.0504000000001\n"
     ]
    }
   ],
   "source": [
    "dictionary_figure = {\"Persegi\":{\"Sisi\":22},\n",
    "                        \"Persegi Panjang\":{\"Panjang\":10,\"Lebar\":5},\n",
    "                        \"Segitiga Sama Sisi\":{\"Sisi\":6,\"Tinggi\":3**(1/2) * 3},\n",
    "                        \"Lingkaran\":{\"Diameter\":7}}\n",
    "\n",
    "# Menghitung Luas Permukaan Prisma Segitiga\n",
    "SisiPanjang = dictionary_figure[\"Persegi Panjang\"][\"Panjang\"]\n",
    "SisiLebar = dictionary_figure[\"Persegi Panjang\"][\"Lebar\"]\n",
    "SisiSegitiga = SisiLebar\n",
    "\n",
    "LuasPermukaanPrisma = 2*(1/4)*(SisiSegitiga**2)*(3**(1/2))+3*SisiPanjang*SisiLebar\n",
    "print(\"Luas permukaan prisma adalah = \", LuasPermukaanPrisma)\n",
    "\n",
    "# Menghitung Luas Permukaan Tabung\n",
    "diameter = dictionary_figure[\"Lingkaran\"][\"Diameter\"]\n",
    "SisiSelimut = 3.14*diameter\n",
    "\n",
    "LuasPermukaanTabung = 2*(3.14)*(diameter**2)/4 + SisiSelimut**2\n",
    "print(\"Luas permukaan tabung adalah = \", LuasPermukaanTabung)"
   ]
  }
 ],
 "metadata": {
  "kernelspec": {
   "display_name": "Python 3",
   "language": "python",
   "name": "python3"
  },
  "language_info": {
   "codemirror_mode": {
    "name": "ipython",
    "version": 3
   },
   "file_extension": ".py",
   "mimetype": "text/x-python",
   "name": "python",
   "nbconvert_exporter": "python",
   "pygments_lexer": "ipython3",
   "version": "3.10.7"
  },
  "orig_nbformat": 4,
  "vscode": {
   "interpreter": {
    "hash": "5addf786bcd861d1ce5006f23111f8cbb206731e5b61b0a5632ba9e0252558a8"
   }
  }
 },
 "nbformat": 4,
 "nbformat_minor": 2
}
